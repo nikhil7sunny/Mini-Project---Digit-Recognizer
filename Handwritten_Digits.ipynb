{
  "nbformat": 4,
  "nbformat_minor": 0,
  "metadata": {
    "colab": {
      "name": "Handwritten Digits",
      "provenance": [],
      "collapsed_sections": []
    },
    "kernelspec": {
      "name": "python3",
      "display_name": "Python 3"
    }
  },
  "cells": [
    {
      "cell_type": "code",
      "metadata": {
        "id": "6VoGMFFujNa0"
      },
      "source": [
        "import tensorflow as tf\n",
        "from tensorflow import keras\n",
        "import matplotlib.pyplot as plt\n",
        "import numpy \n",
        "import cv2"
      ],
      "execution_count": null,
      "outputs": []
    },
    {
      "cell_type": "code",
      "metadata": {
        "id": "UahI_bUpkHRE",
        "outputId": "9ae9c55f-c48b-42e2-e4fb-c22aff3baf10",
        "colab": {
          "base_uri": "https://localhost:8080/",
          "height": 69
        }
      },
      "source": [
        "mnist = keras.datasets.mnist\n",
        "(x_train,y_train),(x_test,y_test) = mnist.load_data()\n",
        "print(x_train[0].shape)\n",
        "x_train,x_test = x_train/255.0,x_test/255.0"
      ],
      "execution_count": null,
      "outputs": [
        {
          "output_type": "stream",
          "text": [
            "Downloading data from https://storage.googleapis.com/tensorflow/tf-keras-datasets/mnist.npz\n",
            "11493376/11490434 [==============================] - 0s 0us/step\n",
            "(28, 28)\n"
          ],
          "name": "stdout"
        }
      ]
    },
    {
      "cell_type": "code",
      "metadata": {
        "id": "bSV-79-kk-yN",
        "outputId": "f1ceb376-2e2d-483f-f0cb-9c6d15f907bc",
        "colab": {
          "base_uri": "https://localhost:8080/",
          "height": 282
        }
      },
      "source": [
        "plt.imshow(x_train[0])\n",
        "plt.show()\n",
        "print(y_train[0])"
      ],
      "execution_count": null,
      "outputs": [
        {
          "output_type": "display_data",
          "data": {
            "image/png": "[encoded data removed]",
            "text/plain": [
              "<Figure size 432x288 with 1 Axes>"
            ]
          },
          "metadata": {
            "tags": [],
            "needs_background": "light"
          }
        },
        {
          "output_type": "stream",
          "text": [
            "5\n"
          ],
          "name": "stdout"
        }
      ]
    },
    {
      "cell_type": "code",
      "metadata": {
        "id": "MRJWlseclvbz",
        "outputId": "c0e72902-a6f2-4b0f-9b25-b1add59d9386",
        "colab": {
          "base_uri": "https://localhost:8080/",
          "height": 295
        }
      },
      "source": [
        "model = keras.Sequential()\n",
        "# model.add(keras.Input(shape = (28,28)))\n",
        "model.add(keras.layers.Flatten(input_shape = (28,28)))\n",
        "model.add(keras.layers.Dense(128,activation = 'relu'))\n",
        "model.add(keras.layers.Dense(128,activation = 'relu'))\n",
        "model.add(keras.layers.Dense(10,activation = 'softmax' ))\n",
        "model.summary()"
      ],
      "execution_count": null,
      "outputs": [
        {
          "output_type": "stream",
          "text": [
            "Model: \"sequential\"\n",
            "_________________________________________________________________\n",
            "Layer (type)                 Output Shape              Param #   \n",
            "=================================================================\n",
            "flatten (Flatten)            (None, 784)               0         \n",
            "_________________________________________________________________\n",
            "dense (Dense)                (None, 128)               100480    \n",
            "_________________________________________________________________\n",
            "dense_1 (Dense)              (None, 128)               16512     \n",
            "_________________________________________________________________\n",
            "dense_2 (Dense)              (None, 10)                1290      \n",
            "=================================================================\n",
            "Total params: 118,282\n",
            "Trainable params: 118,282\n",
            "Non-trainable params: 0\n",
            "_________________________________________________________________\n"
          ],
          "name": "stdout"
        }
      ]
    },
    {
      "cell_type": "code",
      "metadata": {
        "id": "aGI6LKCitiBg"
      },
      "source": [
        "# model.compile(optimizer = 'rmsprop',loss = 'categorical_crossentropy',metrics = ['accuracy'])"
      ],
      "execution_count": null,
      "outputs": []
    },
    {
      "cell_type": "code",
      "metadata": {
        "id": "0zrF8wk2z_zG"
      },
      "source": [
        "model.compile(optimizer='adam',\n",
        "              loss='sparse_categorical_crossentropy',\n",
        "              metrics=['accuracy'])\n"
      ],
      "execution_count": null,
      "outputs": []
    },
    {
      "cell_type": "code",
      "metadata": {
        "id": "m8GQSCpNt6Tu",
        "outputId": "c9bf39ca-fe87-4c28-ddfc-4951a11d4192",
        "colab": {
          "base_uri": "https://localhost:8080/",
          "height": 903
        }
      },
      "source": [
        "history = model.fit(x_train,y_train,verbose = 2 ,epochs = 25)\n",
        "test_loss,test_accuracy = model.evaluate(x_test,y_test)"
      ],
      "execution_count": null,
      "outputs": [
        {
          "output_type": "stream",
          "text": [
            "Epoch 1/25\n",
            "1875/1875 - 4s - loss: 0.2317 - accuracy: 0.9316\n",
            "Epoch 2/25\n",
            "1875/1875 - 4s - loss: 0.0994 - accuracy: 0.9697\n",
            "Epoch 3/25\n",
            "1875/1875 - 4s - loss: 0.0716 - accuracy: 0.9776\n",
            "Epoch 4/25\n",
            "1875/1875 - 4s - loss: 0.0545 - accuracy: 0.9827\n",
            "Epoch 5/25\n",
            "1875/1875 - 4s - loss: 0.0433 - accuracy: 0.9857\n",
            "Epoch 6/25\n",
            "1875/1875 - 4s - loss: 0.0344 - accuracy: 0.9885\n",
            "Epoch 7/25\n",
            "1875/1875 - 4s - loss: 0.0279 - accuracy: 0.9907\n",
            "Epoch 8/25\n",
            "1875/1875 - 5s - loss: 0.0250 - accuracy: 0.9914\n",
            "Epoch 9/25\n",
            "1875/1875 - 4s - loss: 0.0207 - accuracy: 0.9929\n",
            "Epoch 10/25\n",
            "1875/1875 - 4s - loss: 0.0194 - accuracy: 0.9936\n",
            "Epoch 11/25\n",
            "1875/1875 - 4s - loss: 0.0158 - accuracy: 0.9948\n",
            "Epoch 12/25\n",
            "1875/1875 - 4s - loss: 0.0157 - accuracy: 0.9948\n",
            "Epoch 13/25\n",
            "1875/1875 - 4s - loss: 0.0144 - accuracy: 0.9952\n",
            "Epoch 14/25\n",
            "1875/1875 - 4s - loss: 0.0143 - accuracy: 0.9951\n",
            "Epoch 15/25\n",
            "1875/1875 - 4s - loss: 0.0134 - accuracy: 0.9952\n",
            "Epoch 16/25\n",
            "1875/1875 - 4s - loss: 0.0115 - accuracy: 0.9961\n",
            "Epoch 17/25\n",
            "1875/1875 - 4s - loss: 0.0120 - accuracy: 0.9962\n",
            "Epoch 18/25\n",
            "1875/1875 - 4s - loss: 0.0109 - accuracy: 0.9964\n",
            "Epoch 19/25\n",
            "1875/1875 - 4s - loss: 0.0116 - accuracy: 0.9963\n",
            "Epoch 20/25\n",
            "1875/1875 - 4s - loss: 0.0111 - accuracy: 0.9966\n",
            "Epoch 21/25\n",
            "1875/1875 - 4s - loss: 0.0083 - accuracy: 0.9971\n",
            "Epoch 22/25\n",
            "1875/1875 - 4s - loss: 0.0110 - accuracy: 0.9966\n",
            "Epoch 23/25\n",
            "1875/1875 - 4s - loss: 0.0058 - accuracy: 0.9984\n",
            "Epoch 24/25\n",
            "1875/1875 - 4s - loss: 0.0102 - accuracy: 0.9967\n",
            "Epoch 25/25\n",
            "1875/1875 - 4s - loss: 0.0097 - accuracy: 0.9974\n",
            "313/313 [==============================] - 0s 1ms/step - loss: 0.1305 - accuracy: 0.9817\n"
          ],
          "name": "stdout"
        }
      ]
    },
    {
      "cell_type": "code",
      "metadata": {
        "id": "nz-KwdpN19Gr",
        "outputId": "36d31f2c-fd61-4b1b-f8f5-975b7fab9e18",
        "colab": {
          "base_uri": "https://localhost:8080/",
          "height": 36
        }
      },
      "source": [
        "for layer in model.layers :\n",
        "  layer.trainable = False\n",
        "\n",
        "model.save('digits')\n",
        "import os\n",
        "os.getcwd()"
      ],
      "execution_count": null,
      "outputs": [
        {
          "output_type": "execute_result",
          "data": {
            "application/vnd.google.colaboratory.intrinsic+json": {
              "type": "string"
            },
            "text/plain": [
              "'/content'"
            ]
          },
          "metadata": {
            "tags": []
          },
          "execution_count": 17
        }
      ]
    },
    {
      "cell_type": "code",
      "metadata": {
        "id": "agP_uJ1K2bFo",
        "outputId": "1a646140-1bb8-4b4c-fe92-55f7a2d8150f",
        "colab": {
          "base_uri": "https://localhost:8080/",
          "height": 52
        }
      },
      "source": [
        "print(x_train.shape)\n",
        "ans = model.predict(numpy.expand_dims(x_train[0],axis=0))\n",
        "print(numpy.argmax(ans))"
      ],
      "execution_count": null,
      "outputs": [
        {
          "output_type": "stream",
          "text": [
            "(60000, 28, 28)\n",
            "5\n"
          ],
          "name": "stdout"
        }
      ]
    },
    {
      "cell_type": "code",
      "metadata": {
        "id": "Uuem2Wm4NzR8",
        "outputId": "d1336733-2b3b-4f3f-d664-76def01540a0",
        "colab": {
          "base_uri": "https://localhost:8080/",
          "height": 52
        }
      },
      "source": [
        "from tensorflow.keras.models import load_model\n",
        "import cv2\n",
        "\n",
        "image_path = '/content/canvas1.png'\n",
        "img = cv2.imread(image_path,0)\n",
        "img = cv2.resize(img,(28,28))\n",
        "img = numpy.expand_dims(img,axis = 0)\n",
        "# img = numpy.vstack([img])\n",
        "print(img.shape)\n",
        "\n",
        "# model = load_model('digit')\n",
        "\n",
        "prediction = model.predict(img)\n",
        "\n",
        "print(numpy.argmax(prediction))"
      ],
      "execution_count": null,
      "outputs": [
        {
          "output_type": "stream",
          "text": [
            "(1, 28, 28)\n",
            "2\n"
          ],
          "name": "stdout"
        }
      ]
    },
    {
      "cell_type": "code",
      "metadata": {
        "id": "-uI3puNcD-Kq",
        "outputId": "d8572664-58ac-44a1-e542-e1d4119671f2",
        "colab": {
          "base_uri": "https://localhost:8080/",
          "height": 286
        }
      },
      "source": [
        "from tensorflow.keras.models import load_model\n",
        "model = load_model('digits')\n",
        "image_path = '/content/canvas1.png'\n",
        "img = cv2.imread(image_path,0)\n",
        "img = cv2.bitwise_not(img)\n",
        "plt.imshow(img)\n",
        "plt.show()"
      ],
      "execution_count": null,
      "outputs": [
        {
          "output_type": "stream",
          "text": [
            "WARNING:tensorflow:Error in loading the saved optimizer state. As a result, your model is starting with a freshly initialized optimizer.\n"
          ],
          "name": "stdout"
        },
        {
          "output_type": "display_data",
          "data": {
            "image/png": "[encoded data removed]",
            "text/plain": [
              "<Figure size 432x288 with 1 Axes>"
            ]
          },
          "metadata": {
            "tags": [],
            "needs_background": "light"
          }
        }
      ]
    },
    {
      "cell_type": "code",
      "metadata": {
        "id": "U6ugAKktFfN3",
        "outputId": "50dbe0a9-9401-458b-be3c-17a4905e7601",
        "colab": {
          "base_uri": "https://localhost:8080/",
          "height": 34
        }
      },
      "source": [
        "img = cv2.resize(img,(28,28))\n",
        "img = numpy.expand_dims(img,axis = 0)\n",
        "prediction = model.predict(img)\n",
        "print(numpy.argmax(prediction))"
      ],
      "execution_count": null,
      "outputs": [
        {
          "output_type": "stream",
          "text": [
            "4\n"
          ],
          "name": "stdout"
        }
      ]
    }
  ]
}